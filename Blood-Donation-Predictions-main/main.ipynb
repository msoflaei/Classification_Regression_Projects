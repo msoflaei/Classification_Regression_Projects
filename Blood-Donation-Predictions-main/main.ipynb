{
 "cells": [
  {
   "cell_type": "code",
   "execution_count": 24,
   "metadata": {},
   "outputs": [],
   "source": [
    "import pandas as pd\n",
    "import numpy as np\n",
    "import matplotlib.pyplot as plt\n",
    "import seaborn as sns\n",
    "\n",
    "from sklearn.model_selection import train_test_split\n",
    "from sklearn.linear_model import LogisticRegressionCV\n",
    "from sklearn.preprocessing import StandardScaler\n",
    "from sklearn.preprocessing import LabelEncoder\n",
    "\n",
    "RANDOM_SEED = 6 "
   ]
  },
  {
   "cell_type": "code",
   "execution_count": 26,
   "metadata": {},
   "outputs": [],
   "source": [
    "train_df = pd.read_csv(\"data/Traning_Data.csv\")\n",
    "test_df = pd.read_csv(\"data/Test_Data.csv\")"
   ]
  },
  {
   "cell_type": "code",
   "execution_count": 27,
   "metadata": {},
   "outputs": [
    {
     "data": {
      "text/html": [
       "<div>\n",
       "<style scoped>\n",
       "    .dataframe tbody tr th:only-of-type {\n",
       "        vertical-align: middle;\n",
       "    }\n",
       "\n",
       "    .dataframe tbody tr th {\n",
       "        vertical-align: top;\n",
       "    }\n",
       "\n",
       "    .dataframe thead th {\n",
       "        text-align: right;\n",
       "    }\n",
       "</style>\n",
       "<table border=\"1\" class=\"dataframe\">\n",
       "  <thead>\n",
       "    <tr style=\"text-align: right;\">\n",
       "      <th></th>\n",
       "      <th>Unnamed: 0</th>\n",
       "      <th>Months since Last Donation</th>\n",
       "      <th>Number of Donations</th>\n",
       "      <th>Total Volume Donated (c.c.)</th>\n",
       "      <th>Months since First Donation</th>\n",
       "      <th>Made Donation in March 2007</th>\n",
       "    </tr>\n",
       "  </thead>\n",
       "  <tbody>\n",
       "    <tr>\n",
       "      <th>0</th>\n",
       "      <td>619</td>\n",
       "      <td>2</td>\n",
       "      <td>50</td>\n",
       "      <td>12500</td>\n",
       "      <td>98</td>\n",
       "      <td>1</td>\n",
       "    </tr>\n",
       "    <tr>\n",
       "      <th>1</th>\n",
       "      <td>664</td>\n",
       "      <td>0</td>\n",
       "      <td>13</td>\n",
       "      <td>3250</td>\n",
       "      <td>28</td>\n",
       "      <td>1</td>\n",
       "    </tr>\n",
       "    <tr>\n",
       "      <th>2</th>\n",
       "      <td>441</td>\n",
       "      <td>1</td>\n",
       "      <td>16</td>\n",
       "      <td>4000</td>\n",
       "      <td>35</td>\n",
       "      <td>1</td>\n",
       "    </tr>\n",
       "    <tr>\n",
       "      <th>3</th>\n",
       "      <td>160</td>\n",
       "      <td>2</td>\n",
       "      <td>20</td>\n",
       "      <td>5000</td>\n",
       "      <td>45</td>\n",
       "      <td>1</td>\n",
       "    </tr>\n",
       "    <tr>\n",
       "      <th>4</th>\n",
       "      <td>358</td>\n",
       "      <td>1</td>\n",
       "      <td>24</td>\n",
       "      <td>6000</td>\n",
       "      <td>77</td>\n",
       "      <td>0</td>\n",
       "    </tr>\n",
       "  </tbody>\n",
       "</table>\n",
       "</div>"
      ],
      "text/plain": [
       "   Unnamed: 0  Months since Last Donation  Number of Donations  \\\n",
       "0         619                           2                   50   \n",
       "1         664                           0                   13   \n",
       "2         441                           1                   16   \n",
       "3         160                           2                   20   \n",
       "4         358                           1                   24   \n",
       "\n",
       "   Total Volume Donated (c.c.)  Months since First Donation  \\\n",
       "0                        12500                           98   \n",
       "1                         3250                           28   \n",
       "2                         4000                           35   \n",
       "3                         5000                           45   \n",
       "4                         6000                           77   \n",
       "\n",
       "   Made Donation in March 2007  \n",
       "0                            1  \n",
       "1                            1  \n",
       "2                            1  \n",
       "3                            1  \n",
       "4                            0  "
      ]
     },
     "execution_count": 27,
     "metadata": {},
     "output_type": "execute_result"
    }
   ],
   "source": [
    "train_df.head()"
   ]
  },
  {
   "cell_type": "code",
   "execution_count": 28,
   "metadata": {},
   "outputs": [
    {
     "name": "stdout",
     "output_type": "stream",
     "text": [
      "<class 'pandas.core.frame.DataFrame'>\n",
      "RangeIndex: 576 entries, 0 to 575\n",
      "Data columns (total 6 columns):\n",
      " #   Column                       Non-Null Count  Dtype\n",
      "---  ------                       --------------  -----\n",
      " 0   Unnamed: 0                   576 non-null    int64\n",
      " 1   Months since Last Donation   576 non-null    int64\n",
      " 2   Number of Donations          576 non-null    int64\n",
      " 3   Total Volume Donated (c.c.)  576 non-null    int64\n",
      " 4   Months since First Donation  576 non-null    int64\n",
      " 5   Made Donation in March 2007  576 non-null    int64\n",
      "dtypes: int64(6)\n",
      "memory usage: 27.1 KB\n"
     ]
    }
   ],
   "source": [
    "train_df.info()"
   ]
  },
  {
   "cell_type": "code",
   "execution_count": 29,
   "metadata": {},
   "outputs": [
    {
     "data": {
      "text/html": [
       "<div>\n",
       "<style scoped>\n",
       "    .dataframe tbody tr th:only-of-type {\n",
       "        vertical-align: middle;\n",
       "    }\n",
       "\n",
       "    .dataframe tbody tr th {\n",
       "        vertical-align: top;\n",
       "    }\n",
       "\n",
       "    .dataframe thead th {\n",
       "        text-align: right;\n",
       "    }\n",
       "</style>\n",
       "<table border=\"1\" class=\"dataframe\">\n",
       "  <thead>\n",
       "    <tr style=\"text-align: right;\">\n",
       "      <th></th>\n",
       "      <th>Unnamed: 0</th>\n",
       "      <th>Months since Last Donation</th>\n",
       "      <th>Number of Donations</th>\n",
       "      <th>Total Volume Donated (c.c.)</th>\n",
       "      <th>Months since First Donation</th>\n",
       "    </tr>\n",
       "  </thead>\n",
       "  <tbody>\n",
       "    <tr>\n",
       "      <th>0</th>\n",
       "      <td>659</td>\n",
       "      <td>2</td>\n",
       "      <td>12</td>\n",
       "      <td>3000</td>\n",
       "      <td>52</td>\n",
       "    </tr>\n",
       "    <tr>\n",
       "      <th>1</th>\n",
       "      <td>276</td>\n",
       "      <td>21</td>\n",
       "      <td>7</td>\n",
       "      <td>1750</td>\n",
       "      <td>38</td>\n",
       "    </tr>\n",
       "    <tr>\n",
       "      <th>2</th>\n",
       "      <td>263</td>\n",
       "      <td>4</td>\n",
       "      <td>1</td>\n",
       "      <td>250</td>\n",
       "      <td>4</td>\n",
       "    </tr>\n",
       "    <tr>\n",
       "      <th>3</th>\n",
       "      <td>303</td>\n",
       "      <td>11</td>\n",
       "      <td>11</td>\n",
       "      <td>2750</td>\n",
       "      <td>38</td>\n",
       "    </tr>\n",
       "    <tr>\n",
       "      <th>4</th>\n",
       "      <td>83</td>\n",
       "      <td>4</td>\n",
       "      <td>12</td>\n",
       "      <td>3000</td>\n",
       "      <td>34</td>\n",
       "    </tr>\n",
       "  </tbody>\n",
       "</table>\n",
       "</div>"
      ],
      "text/plain": [
       "   Unnamed: 0  Months since Last Donation  Number of Donations  \\\n",
       "0         659                           2                   12   \n",
       "1         276                          21                    7   \n",
       "2         263                           4                    1   \n",
       "3         303                          11                   11   \n",
       "4          83                           4                   12   \n",
       "\n",
       "   Total Volume Donated (c.c.)  Months since First Donation  \n",
       "0                         3000                           52  \n",
       "1                         1750                           38  \n",
       "2                          250                            4  \n",
       "3                         2750                           38  \n",
       "4                         3000                           34  "
      ]
     },
     "execution_count": 29,
     "metadata": {},
     "output_type": "execute_result"
    }
   ],
   "source": [
    "test_df.head()"
   ]
  },
  {
   "cell_type": "code",
   "execution_count": 30,
   "metadata": {},
   "outputs": [],
   "source": [
    "features = train_df.drop(['Made Donation in March 2007'],axis = 1)\n",
    "labels = train_df[['Made Donation in March 2007']]\n",
    "\n",
    "X_train, X_eval, y_train, y_eval = train_test_split(\n",
    "    features,\n",
    "    labels,\n",
    "    test_size=0.2,\n",
    "    shuffle=True,\n",
    "    stratify=labels,\n",
    "    random_state=RANDOM_SEED\n",
    ")\n"
   ]
  },
  {
   "cell_type": "code",
   "execution_count": 31,
   "metadata": {},
   "outputs": [
    {
     "data": {
      "text/plain": [
       "Unnamed: 0                     0\n",
       "Months since Last Donation     0\n",
       "Number of Donations            0\n",
       "Total Volume Donated (c.c.)    0\n",
       "Months since First Donation    0\n",
       "dtype: int64"
      ]
     },
     "execution_count": 31,
     "metadata": {},
     "output_type": "execute_result"
    }
   ],
   "source": [
    "# Checking for any missing data\n",
    "X_train.isnull().sum()"
   ]
  },
  {
   "cell_type": "code",
   "execution_count": 32,
   "metadata": {},
   "outputs": [
    {
     "data": {
      "text/plain": [
       "Unnamed: 0                     0\n",
       "Months since Last Donation     0\n",
       "Number of Donations            0\n",
       "Total Volume Donated (c.c.)    0\n",
       "Months since First Donation    0\n",
       "dtype: int64"
      ]
     },
     "execution_count": 32,
     "metadata": {},
     "output_type": "execute_result"
    }
   ],
   "source": [
    "X_eval.isnull().sum()"
   ]
  },
  {
   "cell_type": "code",
   "execution_count": 33,
   "metadata": {},
   "outputs": [
    {
     "data": {
      "text/plain": [
       "Unnamed: 0                     0\n",
       "Months since Last Donation     0\n",
       "Number of Donations            0\n",
       "Total Volume Donated (c.c.)    0\n",
       "Months since First Donation    0\n",
       "dtype: int64"
      ]
     },
     "execution_count": 33,
     "metadata": {},
     "output_type": "execute_result"
    }
   ],
   "source": [
    "test_df.isnull().sum()"
   ]
  },
  {
   "cell_type": "code",
   "execution_count": 34,
   "metadata": {},
   "outputs": [
    {
     "data": {
      "image/png": "[encoded data removed]",
      "text/plain": [
       "<Figure size 1440x720 with 4 Axes>"
      ]
     },
     "metadata": {
      "needs_background": "light"
     },
     "output_type": "display_data"
    }
   ],
   "source": [
    "# Visualising data\n",
    "plt.figure(figsize = (20, 10))\n",
    "plt.subplot(2, 2, 1)\n",
    "sns.histplot(X_train[y_train.values == 0]['Months since Last Donation'], \n",
    "             bins = range(0, 81, 2), color = 'yellow')\n",
    "plt.ylabel('Frequency')\n",
    "plt.title('Distribution of Months Since last Donation for Non-blood Donors')\n",
    "\n",
    "sns.histplot(X_train[y_train.values == 1]['Months since Last Donation'], \n",
    "             bins = range(0, 81, 2), color = 'green')\n",
    "plt.ylabel('Frequency')\n",
    "plt.title('Distribution of Months Since last Donation for Blood Donors')\n",
    "\n",
    "plt.subplot(2, 2, 2)\n",
    "sns.histplot(X_train[y_train.values == 0]['Number of Donations'], \n",
    "             bins = range(0, 60, 2), color = 'yellow')\n",
    "plt.ylabel('Frequency')\n",
    "plt.title('Distribution of Number of Donations for Non-blood Donors')\n",
    "\n",
    "sns.histplot(X_train[y_train.values == 1]['Number of Donations'], \n",
    "             bins = range(0, 60, 2), color = 'green')\n",
    "plt.ylabel('Frequency')\n",
    "plt.title('Distribution of Number of Donations for Blood Donors')\n",
    "\n",
    "plt.subplot(2, 2, 3)\n",
    "sns.histplot(X_train[y_train.values == 0]['Total Volume Donated (c.c.)'], color = 'yellow')\n",
    "plt.ylabel('Frequency')\n",
    "plt.title('Distribution of Total Volume Donated (c.c.) for Non-blood Donors')\n",
    "\n",
    "sns.histplot(X_train[y_train.values == 1]['Total Volume Donated (c.c.)'], color = 'green')\n",
    "plt.ylabel('Frequency')\n",
    "plt.title('Distribution of Total Volume Donated (c.c.) for Blood Donors')\n",
    "\n",
    "plt.subplot(2, 2, 4)\n",
    "sns.histplot(X_train[y_train.values == 0]['Months since First Donation'], color = 'yellow')\n",
    "plt.ylabel('Frequency')\n",
    "plt.title('Distribution of Months since First Donation for Non-blood Donors')\n",
    "\n",
    "sns.histplot(X_train[y_train.values == 1]['Months since First Donation'], color = 'green')\n",
    "plt.ylabel('Frequency')\n",
    "plt.title('Distribution of Months since First Donation for Blood Donors')\n",
    "\n",
    "plt.show()"
   ]
  },
  {
   "cell_type": "markdown",
   "metadata": {},
   "source": [
    "The results show blood donors who have frequently donated blood in the past and ones who have donated within 3-6 months are much more likely to donate blood. "
   ]
  },
  {
   "cell_type": "code",
   "execution_count": 43,
   "metadata": {},
   "outputs": [],
   "source": [
    "X_train.loc[:,'Average Donation per Month'] = (X_train['Total Volume Donated (c.c.)']/\n",
    "                                         X_train['Months since First Donation'])\n",
    "\n",
    "X_eval.loc[:,'Average Donation per Month'] = X_eval['Total Volume Donated (c.c.)']/X_eval['Months since First Donation']\n",
    "test_df.loc[:,'Average Donation per Month'] = test_df['Total Volume Donated (c.c.)']/test_df['Months since First Donation']"
   ]
  },
  {
   "cell_type": "code",
   "execution_count": 45,
   "metadata": {},
   "outputs": [],
   "source": [
    "X_train.loc[:,'Waiting Time'] = ((X_train['Months since First Donation'] - X_train['Months since Last Donation'])\n",
    "                           /X_train['Number of Donations'])\n",
    "\n",
    "X_eval.loc[:,'Waiting Time'] = ((X_eval['Months since First Donation'] - X_eval['Months since Last Donation'])\n",
    "                        /X_eval['Number of Donations'])\n",
    "\n",
    "test_df.loc[:,'Waiting Time'] = ((test_df['Months since First Donation'] - test_df['Months since Last Donation'])\n",
    "                          /test_df['Number of Donations'])"
   ]
  },
  {
   "cell_type": "code",
   "execution_count": 52,
   "metadata": {},
   "outputs": [
    {
     "name": "stderr",
     "output_type": "stream",
     "text": [
      "/opt/anaconda3/lib/python3.8/site-packages/pandas/core/indexing.py:1745: SettingWithCopyWarning: \n",
      "A value is trying to be set on a copy of a slice from a DataFrame.\n",
      "Try using .loc[row_indexer,col_indexer] = value instead\n",
      "\n",
      "See the caveats in the documentation: https://pandas.pydata.org/pandas-docs/stable/user_guide/indexing.html#returning-a-view-versus-a-copy\n",
      "  isetter(ilocs[0], value)\n",
      "/opt/anaconda3/lib/python3.8/site-packages/pandas/core/indexing.py:1745: SettingWithCopyWarning: \n",
      "A value is trying to be set on a copy of a slice from a DataFrame.\n",
      "Try using .loc[row_indexer,col_indexer] = value instead\n",
      "\n",
      "See the caveats in the documentation: https://pandas.pydata.org/pandas-docs/stable/user_guide/indexing.html#returning-a-view-versus-a-copy\n",
      "  isetter(ilocs[0], value)\n"
     ]
    }
   ],
   "source": [
    "X_train.loc[:,'Frequent Donor'] = (X_train['Number of Donations'] >= 5)\n",
    "\n",
    "X_eval.loc[:,'Frequent Donor'] = (X_eval['Number of Donations'] >= 5)\n",
    "\n",
    "test_df.loc[:,'Frequent Donor'] = (test_df['Number of Donations'] >= 5)"
   ]
  },
  {
   "cell_type": "code",
   "execution_count": 58,
   "metadata": {},
   "outputs": [],
   "source": [
    "numericFeatures = ['Months since Last Donation', 'Number of Donations', \n",
    "                   'Average Donation per Month', 'Waiting Time', 'Months since First Donation']\n",
    "\n",
    "scaler = StandardScaler()\n",
    "\n",
    "X_train_scaled = pd.DataFrame(scaler.fit_transform(X_train[numericFeatures]))\n",
    "X_eval_scaled = pd.DataFrame(scaler.transform(X_eval[numericFeatures]))\n",
    "test_df_scaled = pd.DataFrame(scaler.transform(test_df[numericFeatures]))\n",
    "\n",
    "\n",
    "factorVar = ['Frequent Donor']\n",
    "\n",
    "le = LabelEncoder()\n",
    "\n",
    "for i in factorVar:\n",
    "    X_train_scaled[i] = le.fit_transform(X_train[i])\n",
    "    X_eval_scaled[i]  = le.transform(X_eval[i])\n",
    "    test_df_scaled[i] = le.transform(test_df[i])\n",
    "    \n",
    "    \n",
    "logregr = LogisticRegressionCV(cv = 5, random_state=12, scoring ='neg_log_loss')\n",
    "logregr = logregr.fit(X_train_scaled, y_train['Made Donation in March 2007'])\n",
    "\n",
    "y_eval_logregr = logregr.predict_proba(X_eval_scaled)[:, 1]"
   ]
  },
  {
   "cell_type": "code",
   "execution_count": 59,
   "metadata": {},
   "outputs": [
    {
     "name": "stderr",
     "output_type": "stream",
     "text": [
      "/opt/anaconda3/lib/python3.8/site-packages/sklearn/utils/validation.py:72: DataConversionWarning: A column-vector y was passed when a 1d array was expected. Please change the shape of y to (n_samples, ), for example using ravel().\n",
      "  return f(**kwargs)\n"
     ]
    }
   ],
   "source": [
    "X_total = pd.concat([pd.DataFrame(X_train_scaled), pd.DataFrame(X_eval_scaled)])\n",
    "y_total = pd.concat([y_train, y_eval]).values\n",
    "\n",
    "final_model = logregr.fit(X_total, y_total)\n",
    "y_test = final_model.predict_proba(test_df_scaled)[:, 1]"
   ]
  },
  {
   "cell_type": "code",
   "execution_count": 60,
   "metadata": {},
   "outputs": [
    {
     "name": "stdout",
     "output_type": "stream",
     "text": [
      "0.23777052815398136 0.23958333333333334\n"
     ]
    }
   ],
   "source": [
    "print(y_test.mean(), train_df['Made Donation in March 2007'].values.mean())"
   ]
  },
  {
   "cell_type": "code",
   "execution_count": null,
   "metadata": {},
   "outputs": [],
   "source": []
  }
 ],
 "metadata": {
  "kernelspec": {
   "display_name": "Python 3",
   "language": "python",
   "name": "python3"
  },
  "language_info": {
   "codemirror_mode": {
    "name": "ipython",
    "version": 3
   },
   "file_extension": ".py",
   "mimetype": "text/x-python",
   "name": "python",
   "nbconvert_exporter": "python",
   "pygments_lexer": "ipython3",
   "version": "3.8.5"
  }
 },
 "nbformat": 4,
 "nbformat_minor": 4
}
